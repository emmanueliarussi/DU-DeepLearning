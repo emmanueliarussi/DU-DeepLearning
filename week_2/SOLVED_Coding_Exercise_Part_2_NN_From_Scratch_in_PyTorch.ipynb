{
 "cells": [
  {
   "cell_type": "markdown",
   "metadata": {
    "id": "tdphshS5I3ra"
   },
   "source": [
    "# Coding Exercise Part 2: NN from Scratch in PyTorch"
   ]
  },
  {
   "cell_type": "markdown",
   "metadata": {
    "id": "epr7o9LkIwS6"
   },
   "source": [
    "### Objective\n",
    "* Code a \"vanilla\" feedforward neural network from the scratch in PyTorch."
   ]
  },
  {
   "cell_type": "code",
   "execution_count": 1,
   "metadata": {
    "colab": {
     "base_uri": "https://localhost:8080/"
    },
    "executionInfo": {
     "elapsed": 8072,
     "status": "ok",
     "timestamp": 1695305314622,
     "user": {
      "displayName": "William Li",
      "userId": "04724194045580891958"
     },
     "user_tz": 420
    },
    "id": "3WTJ9L3ZIpXl",
    "outputId": "457662dc-8c8d-4c3b-dc92-af4af46e0a76"
   },
   "outputs": [
    {
     "data": {
      "text/plain": [
       "<torch._C.Generator at 0x7fb0334ed870>"
      ]
     },
     "execution_count": 1,
     "metadata": {},
     "output_type": "execute_result"
    }
   ],
   "source": [
    "# Import libraries\n",
    "import torch\n",
    "import torch.nn as nn\n",
    "import torch.optim as optim\n",
    "import matplotlib.pyplot as plt\n",
    "\n",
    "# Fix random seed: https://pytorch.org/docs/stable/notes/randomness.html\n",
    "torch.manual_seed(12)"
   ]
  },
  {
   "cell_type": "markdown",
   "metadata": {
    "id": "qtpE0pg9ZIBc"
   },
   "source": [
    "### 2. Implement Neural Network class\n",
    "\n",
    "In this exercise, you will implement a simple feed-forward neural network using PyTorch for binary classification tasks.\n",
    "\n",
    "**Objectives:** \n",
    "* Implement the initialization method for the neural network.\n",
    "* Implement the forward propagation step.\n",
    "* Implement the training loop, including the forward pass, loss computation, and parameter updates.\n",
    "\n",
    "**Background:**\n",
    "\n",
    "**Feed-forward Neural Network:** This is a type of artificial neural network where the connections between the nodes do not form a cycle. In this exercise, the neural network will have an input layer, one hidden layer, and an output layer.\n",
    "\n"
   ]
  },
  {
   "cell_type": "code",
   "execution_count": null,
   "metadata": {
    "executionInfo": {
     "elapsed": 249,
     "status": "ok",
     "timestamp": 1695305319274,
     "user": {
      "displayName": "William Li",
      "userId": "04724194045580891958"
     },
     "user_tz": 420
    },
    "id": "GssZFh7nI6tL"
   },
   "outputs": [],
   "source": [
    "# Define the Neural Network using PyTorch\n",
    "class PyTorchNeuralNetwork(nn.Module):\n",
    "    # Init\n",
    "    def __init__(self, input_size, hidden_size, output_size):\n",
    "        super(PyTorchNeuralNetwork, self).__init__()\n",
    "        \"\"\"\n",
    "        Initialize the neural network with the given sizes.\n",
    "\n",
    "        Args:\n",
    "        - input_size: Integer, the number of input features.\n",
    "        - hidden_size: Integer, the number of neurons in the hidden layer.\n",
    "        - output_size: Integer, the number of neurons in the output layer (usually 1 for binary classification).\n",
    "        \"\"\"\n",
    "\n",
    "        # First fully connected layer (input to hidden)\n",
    "        self.fc1 = nn.Linear(input_size, hidden_size)\n",
    "\n",
    "        # Second fully connected layer (hidden to output)\n",
    "        self.fc2 = nn.Linear(hidden_size, output_size)\n",
    "\n",
    "        # Sigmoid activation function for the output layer\n",
    "        self.sigmoid = nn.Sigmoid()\n",
    "\n",
    "    # Perform forward propagation step\n",
    "    def forward(self, x):\n",
    "        \"\"\"\n",
    "        Perform the forward propagation step.\n",
    "\n",
    "        Args:\n",
    "        - x: A PyTorch tensor of shape (batch_size, input_size).\n",
    "\n",
    "        Returns:\n",
    "        - x: A PyTorch tensor of shape (batch_size, output_size) representing the model's predictions.\n",
    "        \"\"\"\n",
    "        \n",
    "        # Apply ReLU activation after first layer\n",
    "        x = torch.relu(self.fc1(x))\n",
    "\n",
    "        # Apply Sigmoid activation after second layer\n",
    "        x = self.sigmoid(self.fc2(x))\n",
    "\n",
    "        return x\n",
    "\n",
    "    # Trains the neural network using the specified data (X_train) and labels (Y_train)\n",
    "    def train(self, X_train, Y_train, learning_rate=0.01, epochs=5000):\n",
    "        \"\"\"\n",
    "        Train the neural network using the provided training data.\n",
    "\n",
    "        Args:\n",
    "        - X_train: A PyTorch tensor of shape (n_samples, input_size) containing the training data.\n",
    "        - Y_train: A PyTorch tensor of shape (n_samples, output_size) containing the true labels.\n",
    "        - learning_rate: Learning rate for the optimizer.\n",
    "        - epochs: Number of epochs to train the model.\n",
    "        \"\"\"\n",
    "        \n",
    "        # Use Binary Cross Entropy Loss for binary classification\n",
    "        criterion = nn.BCELoss()\n",
    "\n",
    "        # Use the Adam optimizer for parameter updates\n",
    "        optimizer = optim.SGD(self.parameters(), lr=learning_rate)\n",
    "\n",
    "        # List to store loss values for each epoch\n",
    "        self.losses = []\n",
    "\n",
    "        # Training loop\n",
    "        for epoch in range(epochs):\n",
    "            # Forward pass: Compute predicted y by passing x to the model\n",
    "            outputs = self.forward(X_train)\n",
    "\n",
    "            # Compute the loss\n",
    "            loss = criterion(outputs, Y_train)\n",
    "\n",
    "            # Zero gradients, backward pass, optimizer step\n",
    "            optimizer.zero_grad()  # Zero out any cached gradients\n",
    "            loss.backward()        # Compute gradient of the loss with respect to model parameters\n",
    "            optimizer.step()       # Update model parameters\n",
    "\n",
    "            # Store the loss value\n",
    "            self.losses.append(loss.item())\n",
    "\n",
    "            # Print the loss every 100 epochs\n",
    "            if (epoch+1) % 100 == 0:\n",
    "                print(f'Epoch [{epoch+1}/{epochs}], Loss: {loss.item():.4f}')\n",
    "\n",
    "    def predict(self, X):\n",
    "        \"\"\"\n",
    "        Predicts the outputs for the given inputs X.\n",
    "        \"\"\"\n",
    "        with torch.no_grad():  # No need to compute gradients during prediction\n",
    "            outputs = self.forward(X)\n",
    "            return (outputs > 0.5).int() # Convert probabilities to binary outputs\n",
    "\n",
    "    def plot_loss(self):\n",
    "        # Plotting the loss curve\n",
    "        plt.plot(self.losses)\n",
    "        plt.xlabel(\"Epoch\")\n",
    "        plt.ylabel(\"Loss (BCE)\")\n",
    "        plt.title(\"Loss curve\")\n",
    "        plt.show()"
   ]
  },
  {
   "cell_type": "markdown",
   "metadata": {
    "id": "pM2whZkSLFGH"
   },
   "source": [
    "### 3. Load dataset\n",
    "We will work with the Haberman’s Survival Dataset. The dataset contains cases from a study that was conducted between 1958 and 1970 at the University of Chicago's Billings Hospital on the survival of patients who had undergone surgery for breast cancer. There are 306 items (patients). There are three predictor variables (age, year of operation, number of detected nodes). The variable to predict is encoded as 0 (survived) or 1 (died). See [\n",
    "Haberman's Survival Dataset](https://archive.ics.uci.edu/dataset/43/haberman+s+survival)."
   ]
  },
  {
   "cell_type": "code",
   "execution_count": 3,
   "metadata": {
    "executionInfo": {
     "elapsed": 828,
     "status": "ok",
     "timestamp": 1695305330502,
     "user": {
      "displayName": "William Li",
      "userId": "04724194045580891958"
     },
     "user_tz": 420
    },
    "id": "fNwOa5U1K9oU"
   },
   "outputs": [],
   "source": [
    "import pandas as pd\n",
    "\n",
    "url = 'https://raw.githubusercontent.com/emmanueliarussi/DU-DeepLearning/main/week_2/haberman_data/haberman.data'\n",
    "headers =  ['age', 'year','nodes','y']\n",
    "haberman_df  = pd.read_csv(url, sep=',', names=headers)"
   ]
  },
  {
   "cell_type": "code",
   "execution_count": 4,
   "metadata": {
    "colab": {
     "base_uri": "https://localhost:8080/",
     "height": 424
    },
    "id": "-OLAZOUBLId1",
    "outputId": "a70b7b77-7972-45ba-d4b5-7183ac861495"
   },
   "outputs": [
    {
     "data": {
      "text/html": [
       "<div>\n",
       "<style scoped>\n",
       "    .dataframe tbody tr th:only-of-type {\n",
       "        vertical-align: middle;\n",
       "    }\n",
       "\n",
       "    .dataframe tbody tr th {\n",
       "        vertical-align: top;\n",
       "    }\n",
       "\n",
       "    .dataframe thead th {\n",
       "        text-align: right;\n",
       "    }\n",
       "</style>\n",
       "<table border=\"1\" class=\"dataframe\">\n",
       "  <thead>\n",
       "    <tr style=\"text-align: right;\">\n",
       "      <th></th>\n",
       "      <th>age</th>\n",
       "      <th>year</th>\n",
       "      <th>nodes</th>\n",
       "      <th>y</th>\n",
       "    </tr>\n",
       "  </thead>\n",
       "  <tbody>\n",
       "    <tr>\n",
       "      <th>0</th>\n",
       "      <td>age</td>\n",
       "      <td>year</td>\n",
       "      <td>nodes</td>\n",
       "      <td>y</td>\n",
       "    </tr>\n",
       "    <tr>\n",
       "      <th>1</th>\n",
       "      <td>30</td>\n",
       "      <td>64</td>\n",
       "      <td>1</td>\n",
       "      <td>0</td>\n",
       "    </tr>\n",
       "    <tr>\n",
       "      <th>2</th>\n",
       "      <td>30</td>\n",
       "      <td>62</td>\n",
       "      <td>3</td>\n",
       "      <td>0</td>\n",
       "    </tr>\n",
       "    <tr>\n",
       "      <th>3</th>\n",
       "      <td>30</td>\n",
       "      <td>65</td>\n",
       "      <td>0</td>\n",
       "      <td>0</td>\n",
       "    </tr>\n",
       "    <tr>\n",
       "      <th>4</th>\n",
       "      <td>31</td>\n",
       "      <td>59</td>\n",
       "      <td>2</td>\n",
       "      <td>0</td>\n",
       "    </tr>\n",
       "    <tr>\n",
       "      <th>...</th>\n",
       "      <td>...</td>\n",
       "      <td>...</td>\n",
       "      <td>...</td>\n",
       "      <td>...</td>\n",
       "    </tr>\n",
       "    <tr>\n",
       "      <th>302</th>\n",
       "      <td>75</td>\n",
       "      <td>62</td>\n",
       "      <td>1</td>\n",
       "      <td>0</td>\n",
       "    </tr>\n",
       "    <tr>\n",
       "      <th>303</th>\n",
       "      <td>76</td>\n",
       "      <td>67</td>\n",
       "      <td>0</td>\n",
       "      <td>0</td>\n",
       "    </tr>\n",
       "    <tr>\n",
       "      <th>304</th>\n",
       "      <td>77</td>\n",
       "      <td>65</td>\n",
       "      <td>3</td>\n",
       "      <td>0</td>\n",
       "    </tr>\n",
       "    <tr>\n",
       "      <th>305</th>\n",
       "      <td>78</td>\n",
       "      <td>65</td>\n",
       "      <td>1</td>\n",
       "      <td>1</td>\n",
       "    </tr>\n",
       "    <tr>\n",
       "      <th>306</th>\n",
       "      <td>83</td>\n",
       "      <td>58</td>\n",
       "      <td>2</td>\n",
       "      <td>1</td>\n",
       "    </tr>\n",
       "  </tbody>\n",
       "</table>\n",
       "<p>307 rows × 4 columns</p>\n",
       "</div>"
      ],
      "text/plain": [
       "     age  year  nodes  y\n",
       "0    age  year  nodes  y\n",
       "1     30    64      1  0\n",
       "2     30    62      3  0\n",
       "3     30    65      0  0\n",
       "4     31    59      2  0\n",
       "..   ...   ...    ... ..\n",
       "302   75    62      1  0\n",
       "303   76    67      0  0\n",
       "304   77    65      3  0\n",
       "305   78    65      1  1\n",
       "306   83    58      2  1\n",
       "\n",
       "[307 rows x 4 columns]"
      ]
     },
     "execution_count": 4,
     "metadata": {},
     "output_type": "execute_result"
    }
   ],
   "source": [
    "haberman_df"
   ]
  },
  {
   "cell_type": "code",
   "execution_count": 5,
   "metadata": {
    "executionInfo": {
     "elapsed": 683,
     "status": "ok",
     "timestamp": 1695305335240,
     "user": {
      "displayName": "William Li",
      "userId": "04724194045580891958"
     },
     "user_tz": 420
    },
    "id": "TcJOZp0JLK5T"
   },
   "outputs": [],
   "source": [
    "# Convert pandas dataframe into numpy arrays\n",
    "x       = haberman_df.drop(columns=['y']).values[1:]\n",
    "y_label = haberman_df['y'].values[1:].reshape(x.shape[0], 1).astype(float)"
   ]
  },
  {
   "cell_type": "code",
   "execution_count": 6,
   "metadata": {
    "executionInfo": {
     "elapsed": 1441,
     "status": "ok",
     "timestamp": 1695305339632,
     "user": {
      "displayName": "William Li",
      "userId": "04724194045580891958"
     },
     "user_tz": 420
    },
    "id": "L-sK-UMXLMrK"
   },
   "outputs": [],
   "source": [
    "# Split data into train and test set\n",
    "from sklearn.model_selection import train_test_split\n",
    "\n",
    "xtrain, xtest, ytrain, ytest = train_test_split(x, y_label, test_size=0.2, random_state=2)"
   ]
  },
  {
   "cell_type": "code",
   "execution_count": 7,
   "metadata": {
    "colab": {
     "base_uri": "https://localhost:8080/"
    },
    "executionInfo": {
     "elapsed": 172,
     "status": "ok",
     "timestamp": 1695305342961,
     "user": {
      "displayName": "William Li",
      "userId": "04724194045580891958"
     },
     "user_tz": 420
    },
    "id": "anXJ6jF9LO8T",
    "outputId": "f26fb2a6-790d-470a-f13e-4668b8a01b05"
   },
   "outputs": [
    {
     "name": "stdout",
     "output_type": "stream",
     "text": [
      "Shape of train set is (244, 3)\n",
      "Shape of test set is (62, 3)\n",
      "Shape of train label is (244, 1)\n",
      "Shape of test labels is (62, 1)\n"
     ]
    }
   ],
   "source": [
    "# Standardize the dataset\n",
    "# Standardize features by removing the mean and scaling to unit variance.\n",
    "# https://scikit-learn.org/stable/modules/generated/sklearn.preprocessing.StandardScaler.html\n",
    "from sklearn.preprocessing   import StandardScaler\n",
    "\n",
    "sc = StandardScaler()\n",
    "sc.fit(xtrain)\n",
    "xtrain = sc.transform(xtrain)\n",
    "xtest  = sc.transform(xtest)\n",
    "\n",
    "print(\"Shape of train set is {}\".format(xtrain.shape))\n",
    "print(\"Shape of test set is {}\".format(xtest.shape))\n",
    "print(\"Shape of train label is {}\".format(ytrain.shape))\n",
    "print(\"Shape of test labels is {}\".format(ytest.shape))"
   ]
  },
  {
   "cell_type": "code",
   "execution_count": 8,
   "metadata": {
    "executionInfo": {
     "elapsed": 197,
     "status": "ok",
     "timestamp": 1695305347650,
     "user": {
      "displayName": "William Li",
      "userId": "04724194045580891958"
     },
     "user_tz": 420
    },
    "id": "X5I57GAsLYtN"
   },
   "outputs": [],
   "source": [
    "# Convert numpy arrays to PyTorch tensors\n",
    "X_train = torch.FloatTensor(xtrain)\n",
    "Y_train = torch.FloatTensor(ytrain)\n",
    "X_test = torch.FloatTensor(xtest)\n",
    "Y_test = torch.FloatTensor(ytest)"
   ]
  },
  {
   "cell_type": "code",
   "execution_count": 9,
   "metadata": {
    "colab": {
     "base_uri": "https://localhost:8080/",
     "height": 1000
    },
    "executionInfo": {
     "elapsed": 3647,
     "status": "ok",
     "timestamp": 1695305354329,
     "user": {
      "displayName": "William Li",
      "userId": "04724194045580891958"
     },
     "user_tz": 420
    },
    "id": "U89cCftPK43P",
    "outputId": "43ca4a90-e564-4308-b219-1b0f24ad589b"
   },
   "outputs": [
    {
     "name": "stdout",
     "output_type": "stream",
     "text": [
      "Epoch [100/5000], Loss: 0.5682\n",
      "Epoch [200/5000], Loss: 0.5531\n",
      "Epoch [300/5000], Loss: 0.5424\n",
      "Epoch [400/5000], Loss: 0.5343\n",
      "Epoch [500/5000], Loss: 0.5279\n",
      "Epoch [600/5000], Loss: 0.5229\n",
      "Epoch [700/5000], Loss: 0.5189\n",
      "Epoch [800/5000], Loss: 0.5154\n",
      "Epoch [900/5000], Loss: 0.5124\n",
      "Epoch [1000/5000], Loss: 0.5098\n",
      "Epoch [1100/5000], Loss: 0.5077\n",
      "Epoch [1200/5000], Loss: 0.5058\n",
      "Epoch [1300/5000], Loss: 0.5040\n",
      "Epoch [1400/5000], Loss: 0.5025\n",
      "Epoch [1500/5000], Loss: 0.5012\n",
      "Epoch [1600/5000], Loss: 0.5001\n",
      "Epoch [1700/5000], Loss: 0.4991\n",
      "Epoch [1800/5000], Loss: 0.4982\n",
      "Epoch [1900/5000], Loss: 0.4974\n",
      "Epoch [2000/5000], Loss: 0.4967\n",
      "Epoch [2100/5000], Loss: 0.4960\n",
      "Epoch [2200/5000], Loss: 0.4954\n",
      "Epoch [2300/5000], Loss: 0.4948\n",
      "Epoch [2400/5000], Loss: 0.4942\n",
      "Epoch [2500/5000], Loss: 0.4937\n",
      "Epoch [2600/5000], Loss: 0.4933\n",
      "Epoch [2700/5000], Loss: 0.4929\n",
      "Epoch [2800/5000], Loss: 0.4925\n",
      "Epoch [2900/5000], Loss: 0.4921\n",
      "Epoch [3000/5000], Loss: 0.4918\n",
      "Epoch [3100/5000], Loss: 0.4914\n",
      "Epoch [3200/5000], Loss: 0.4911\n",
      "Epoch [3300/5000], Loss: 0.4907\n",
      "Epoch [3400/5000], Loss: 0.4904\n",
      "Epoch [3500/5000], Loss: 0.4901\n",
      "Epoch [3600/5000], Loss: 0.4898\n",
      "Epoch [3700/5000], Loss: 0.4895\n",
      "Epoch [3800/5000], Loss: 0.4892\n",
      "Epoch [3900/5000], Loss: 0.4889\n",
      "Epoch [4000/5000], Loss: 0.4886\n",
      "Epoch [4100/5000], Loss: 0.4883\n",
      "Epoch [4200/5000], Loss: 0.4881\n",
      "Epoch [4300/5000], Loss: 0.4878\n",
      "Epoch [4400/5000], Loss: 0.4876\n",
      "Epoch [4500/5000], Loss: 0.4873\n",
      "Epoch [4600/5000], Loss: 0.4871\n",
      "Epoch [4700/5000], Loss: 0.4869\n",
      "Epoch [4800/5000], Loss: 0.4866\n",
      "Epoch [4900/5000], Loss: 0.4863\n",
      "Epoch [5000/5000], Loss: 0.4859\n"
     ]
    },
    {
     "data": {
      "image/png": "[encoded data removed]",
      "text/plain": [
       "<Figure size 432x288 with 1 Axes>"
      ]
     },
     "metadata": {
      "needs_background": "light"
     },
     "output_type": "display_data"
    }
   ],
   "source": [
    "# Initialize the model\n",
    "model = PyTorchNeuralNetwork(input_size=3, hidden_size=5, output_size=1)\n",
    "\n",
    "# Train the model\n",
    "model.train(X_train, Y_train, epochs=5000, learning_rate=0.01)\n",
    "\n",
    "# Plot the loss curve\n",
    "model.plot_loss()"
   ]
  },
  {
   "cell_type": "code",
   "execution_count": 10,
   "metadata": {
    "executionInfo": {
     "elapsed": 325,
     "status": "ok",
     "timestamp": 1695305357250,
     "user": {
      "displayName": "William Li",
      "userId": "04724194045580891958"
     },
     "user_tz": 420
    },
    "id": "3BQRRzq8Mbbh"
   },
   "outputs": [],
   "source": [
    "def accuracy(y, y_hat):\n",
    "    # Computes the accuracy between the predicted labels and the truth labels\n",
    "    acc = sum(y == y_hat) / len(y)  # fraction of predictions our model got right\n",
    "    return acc[0]"
   ]
  },
  {
   "cell_type": "code",
   "execution_count": 11,
   "metadata": {
    "colab": {
     "base_uri": "https://localhost:8080/"
    },
    "executionInfo": {
     "elapsed": 223,
     "status": "ok",
     "timestamp": 1695305359414,
     "user": {
      "displayName": "William Li",
      "userId": "04724194045580891958"
     },
     "user_tz": 420
    },
    "id": "gyfNZYmJLcah",
    "outputId": "c6e177e9-57c1-4471-8a3f-f64ad1838ac6"
   },
   "outputs": [
    {
     "name": "stdout",
     "output_type": "stream",
     "text": [
      "Train accuracy is 0.77\n",
      "Test accuracy is 0.69\n"
     ]
    }
   ],
   "source": [
    "# Evaluate the model\n",
    "train_pred = model.predict(X_train)\n",
    "test_pred = model.predict(X_test)\n",
    "\n",
    "print(\"Train accuracy is {0:.2f}\".format(accuracy(Y_train, train_pred)))\n",
    "print(\"Test accuracy is {0:.2f}\".format(accuracy(Y_test, test_pred)))"
   ]
  },
  {
   "cell_type": "markdown",
   "metadata": {
    "id": "7jZo150raBsA"
   },
   "source": [
    "### 4. Visualizing Computation Graph"
   ]
  },
  {
   "cell_type": "code",
   "execution_count": 12,
   "metadata": {
    "colab": {
     "base_uri": "https://localhost:8080/"
    },
    "executionInfo": {
     "elapsed": 8179,
     "status": "ok",
     "timestamp": 1695305370452,
     "user": {
      "displayName": "William Li",
      "userId": "04724194045580891958"
     },
     "user_tz": 420
    },
    "id": "_nCdc3YCaX2-",
    "outputId": "4e4e9a5a-874d-47f0-af5b-bb76b690f0e1"
   },
   "outputs": [
    {
     "name": "stdout",
     "output_type": "stream",
     "text": [
      "Collecting torchviz\n",
      "  Downloading torchviz-0.0.2.tar.gz (4.9 kB)\n",
      "  Preparing metadata (setup.py) ... \u001b[?25ldone\n",
      "\u001b[?25hRequirement already satisfied: torch in /home/emma/anaconda3/envs/vessel/lib/python3.9/site-packages (from torchviz) (1.13.1)\n",
      "Collecting graphviz\n",
      "  Downloading graphviz-0.20.1-py3-none-any.whl (47 kB)\n",
      "\u001b[2K     \u001b[38;2;114;156;31m━━━━━━━━━━━━━━━━━━━━━━━━━━━━━━━━━━━━━━━━\u001b[0m \u001b[32m47.0/47.0 kB\u001b[0m \u001b[31m1.1 MB/s\u001b[0m eta \u001b[36m0:00:00\u001b[0m[31m1.8 MB/s\u001b[0m eta \u001b[36m0:00:01\u001b[0m\n",
      "\u001b[?25hRequirement already satisfied: typing_extensions in /home/emma/anaconda3/envs/vessel/lib/python3.9/site-packages (from torch->torchviz) (4.4.0)\n",
      "Building wheels for collected packages: torchviz\n",
      "  Building wheel for torchviz (setup.py) ... \u001b[?25ldone\n",
      "\u001b[?25h  Created wheel for torchviz: filename=torchviz-0.0.2-py3-none-any.whl size=4131 sha256=5fa3f01cbc6969a042808a0c2dfd431d7184b577dac1f10ac5649af82e3c54a8\n",
      "  Stored in directory: /home/emma/.cache/pip/wheels/27/01/9a/eda4eb8c3d5ea66e652137ad7feb65759a98f4b8bcd128a96b\n",
      "Successfully built torchviz\n",
      "Installing collected packages: graphviz, torchviz\n",
      "Successfully installed graphviz-0.20.1 torchviz-0.0.2\n"
     ]
    }
   ],
   "source": [
    "# Repository: https://github.com/szagoruyko/pytorchviz\n",
    "!pip install torchviz\n",
    "\n",
    "import torchviz\n",
    "from torchviz import make_dot"
   ]
  },
  {
   "cell_type": "code",
   "execution_count": null,
   "metadata": {
    "colab": {
     "base_uri": "https://localhost:8080/",
     "height": 646
    },
    "executionInfo": {
     "elapsed": 341,
     "status": "ok",
     "timestamp": 1695305370783,
     "user": {
      "displayName": "William Li",
      "userId": "04724194045580891958"
     },
     "user_tz": 420
    },
    "id": "OSp6D6wWaa1k",
    "outputId": "d7206660-7d58-40bc-9952-7533ad559861"
   },
   "outputs": [],
   "source": [
    "# Create a dummy input that matches the dimensionality of the input\n",
    "dummy_input = torch.FloatTensor(1,3)\n",
    "\n",
    "# Pass the dummy input through the model to get the output\n",
    "output = model(dummy_input)\n",
    "\n",
    "# Visualize the computation graph\n",
    "make_dot(output, params=dict(model.named_parameters()))"
   ]
  },
  {
   "cell_type": "markdown",
   "metadata": {
    "id": "6LNwi4cXcKCh"
   },
   "source": [
    "See more in this [PyTorchViz Gallery](https://colab.research.google.com/github/szagoruyko/pytorchviz/blob/master/examples.ipynb)."
   ]
  }
 ],
 "metadata": {
  "colab": {
   "provenance": []
  },
  "kernelspec": {
   "display_name": "Python 3 (ipykernel)",
   "language": "python",
   "name": "python3"
  },
  "language_info": {
   "codemirror_mode": {
    "name": "ipython",
    "version": 3
   },
   "file_extension": ".py",
   "mimetype": "text/x-python",
   "name": "python",
   "nbconvert_exporter": "python",
   "pygments_lexer": "ipython3",
   "version": "3.9.16"
  }
 },
 "nbformat": 4,
 "nbformat_minor": 1
}
