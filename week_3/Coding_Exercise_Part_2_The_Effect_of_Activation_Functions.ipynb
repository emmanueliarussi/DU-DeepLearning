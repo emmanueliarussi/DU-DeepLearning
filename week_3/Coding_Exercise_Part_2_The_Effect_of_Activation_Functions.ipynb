{
 "cells": [
  {
   "cell_type": "markdown",
   "metadata": {
    "id": "tdphshS5I3ra"
   },
   "source": [
    "# Coding Exercise Part 2: The Effect of Activation Functions"
   ]
  },
  {
   "cell_type": "markdown",
   "metadata": {
    "id": "epr7o9LkIwS6"
   },
   "source": [
    "In this coding exercise, you will delve deeper into the significance of activation functions in neural networks. By integrating the activation functions you've implemented into a simple neural network, you will be able to observe and understand the nuances of their behavior.\n",
    "\n",
    "### Objectives\n",
    "\n",
    "* **Implement a Simple Neural Network:** Develop a basic feedforward neural network with one hidden layer using PyTorch. The architecture should cater to input size 784, a hidden layer of size 128, and an output layer of size 10.\n",
    "\n",
    "* **Train Using Varied Activations:** Familiarize yourself with the distinct learning patterns by training the model with each of the following activation functions: Sigmoid, Tanh, ReLU, LeakyReLU, ELU, and Swish.\n",
    "\n",
    "* **Visualize Gradient Flow:** Explore the internal workings of the neural network by visualizing the gradient flow through the network layers when using different activation functions. Understand the issues of vanishing or exploding gradients and see how each activation function affects this phenomenon."
   ]
  },
  {
   "cell_type": "code",
   "execution_count": 1,
   "metadata": {
    "colab": {
     "base_uri": "https://localhost:8080/"
    },
    "executionInfo": {
     "elapsed": 8072,
     "status": "ok",
     "timestamp": 1695305314622,
     "user": {
      "displayName": "William Li",
      "userId": "04724194045580891958"
     },
     "user_tz": 420
    },
    "id": "3WTJ9L3ZIpXl",
    "outputId": "457662dc-8c8d-4c3b-dc92-af4af46e0a76"
   },
   "outputs": [
    {
     "data": {
      "text/plain": [
       "<torch._C.Generator at 0x7f539098f2d0>"
      ]
     },
     "execution_count": 1,
     "metadata": {},
     "output_type": "execute_result"
    }
   ],
   "source": [
    "# Import libraries\n",
    "import torch\n",
    "import torch.nn as nn\n",
    "import torch.optim as optim\n",
    "import matplotlib.pyplot as plt\n",
    "\n",
    "# Fix random seed: https://pytorch.org/docs/stable/notes/randomness.html\n",
    "torch.manual_seed(12)"
   ]
  },
  {
   "cell_type": "markdown",
   "metadata": {
    "id": "qtpE0pg9ZIBc"
   },
   "source": [
    "### 1. Implement Neural Network class\n",
    "\n",
    "Construct a simple neural network using PyTorch that can be flexibly employed with various activation functions. This neural network will be utilized to understand the effects of different activation functions on learning dynamics, gradient flow, and performance.\n",
    "\n",
    "**Objectives:** \n",
    "\n",
    "* Construct a simple neural network using PyTorch that can be flexibly employed with various activation functions.\n",
    "* This neural network will be utilized to understand the effects of different activation functions on learning dynamics, gradient flow, and performance.\n",
    "\n",
    "**Background:**\n",
    "\n",
    "**Feed-forward Neural Network:** A neural network that consists of layers of interconnected nodes (or \"neurons\"). Each connection has an associated weight, which is adjusted during training to minimize the error in predictions. Between these layers, activation functions introduce non-linearities, allowing the network to learn complex patterns in the data.\n",
    "\n",
    "**Fashion MNIST dataset:** Fashion MNIST, a dataset consisting of images of clothing items, will be our dataset of choice for this exercise. Each image in Fashion MNIST is 28x28 pixels, resulting in an input size of 784. The dataset contains 10 classes, such as T-shirt, Dress, and Sneaker, leading to an output size of 10 for our network."
   ]
  },
  {
   "cell_type": "code",
   "execution_count": 2,
   "metadata": {
    "executionInfo": {
     "elapsed": 249,
     "status": "ok",
     "timestamp": 1695305319274,
     "user": {
      "displayName": "William Li",
      "userId": "04724194045580891958"
     },
     "user_tz": 420
    },
    "id": "GssZFh7nI6tL"
   },
   "outputs": [],
   "source": [
    "class DeepNN(nn.Module):\n",
    "    \"\"\"\n",
    "    A deep feedforward neural network with multiple layers.\n",
    "    \n",
    "    Args:\n",
    "        input_size (int): Size of the input. For Fashion MNIST, this would be 784.\n",
    "        output_size (int): Size of the output layer. For Fashion MNIST classification, this would be 10.\n",
    "        activation_func (callable): The activation function to be used in the hidden layers.\n",
    "        \n",
    "    Returns:\n",
    "        torch.Tensor: Tensor output from the forward pass.\n",
    "    \"\"\"\n",
    "    def __init__(self, input_size=784, output_size=10, activation_func=nn.ReLU()):\n",
    "        super(DeepNN, self).__init__()\n",
    "        \n",
    "        # Define the network layers (linear)\n",
    "        \n",
    "        self.layer1 = # Your code here \n",
    "        self.act1   = activation_func\n",
    "        \n",
    "        self.layer2 = # Your code here // 512 -> 256\n",
    "        self.act2   = activation_func\n",
    "        \n",
    "        self.layer3 = # Your code here // 256 -> 128\n",
    "        self.act3   = activation_func\n",
    "        \n",
    "        self.layer4 = # Your code here  // 128 -> 64\n",
    "        self.act4   = activation_func\n",
    "        \n",
    "        self.layer5 = # Your code here // 64 -> 32\n",
    "        self.act5   = activation_func\n",
    "        \n",
    "        self.output_layer = # Your code here \n",
    "        \n",
    "    def forward(self, x):\n",
    "        \"\"\"\n",
    "        Forward pass of the neural network.\n",
    "        \n",
    "        Args:\n",
    "            x (torch.Tensor): The input tensor.\n",
    "        \n",
    "        Returns:\n",
    "            torch.Tensor: The output tensor after passing through the network.\n",
    "        \"\"\"\n",
    "        # Your code here \n",
    "    "
   ]
  },
  {
   "cell_type": "markdown",
   "metadata": {
    "id": "pM2whZkSLFGH"
   },
   "source": [
    "### 2. Load the Fashion MNIST Dataset\n",
    "\n",
    "**Objective:**\n",
    "\n",
    "* Load and familiarize yourself with the Fashion MNIST dataset, a popular dataset used in deep learning.\n",
    "* Prepare the dataset for training and testing the neural network.\n",
    "\n",
    "**Background:**\n",
    "\n",
    "The Fashion MNIST dataset is a collection of 60,000 28x28 grayscale images of 10 fashion categories, along with a test set of 10,000 images. The dataset serves as a direct drop-in replacement for the original MNIST dataset for benchmarking machine learning algorithms. Each image belongs to one of the following categories: T-shirt/top, Trouser, Pullover, Dress, Coat, Sandal, Shirt, Sneaker, Bag, or Ankle boot.\n",
    "\n",
    "Using PyTorch's utilities, we can easily load, preprocess, and split this dataset into training and testing batches.\n",
    "\n",
    "**Instructions:**\n",
    "\n",
    "* Use PyTorch's [torchvision](https://pytorch.org/vision/stable/index.html) library to load the dataset.\n",
    "* Normalize the dataset to have values between 0 and 1.\n",
    "* Split the dataset into training and testing batches."
   ]
  },
  {
   "cell_type": "code",
   "execution_count": 3,
   "metadata": {
    "executionInfo": {
     "elapsed": 828,
     "status": "ok",
     "timestamp": 1695305330502,
     "user": {
      "displayName": "William Li",
      "userId": "04724194045580891958"
     },
     "user_tz": 420
    },
    "id": "fNwOa5U1K9oU"
   },
   "outputs": [],
   "source": [
    "import torch\n",
    "from torchvision import datasets, transforms\n",
    "from torch.utils.data import DataLoader"
   ]
  },
  {
   "cell_type": "markdown",
   "metadata": {},
   "source": [
    "Here, we use the torchvision.datasets.FashionMNIST utility to fetch the Fashion MNIST dataset. The dataset is then transformed and normalized using ```transforms.Compose()```. The normalized dataset is loaded into batches using DataLoader for training and testing purposes."
   ]
  },
  {
   "cell_type": "code",
   "execution_count": 4,
   "metadata": {
    "colab": {
     "base_uri": "https://localhost:8080/",
     "height": 424
    },
    "id": "-OLAZOUBLId1",
    "outputId": "a70b7b77-7972-45ba-d4b5-7183ac861495",
    "scrolled": true
   },
   "outputs": [],
   "source": [
    "# Define the transformation pipeline for the dataset\n",
    "transform = transforms.Compose([\n",
    "    transforms.ToTensor(),  # Convert image to tensor\n",
    "    transforms.Normalize((0.5,), (0.5,))  # Normalize with mean=0.5, std=0.5\n",
    "])\n",
    "\n",
    "# Load the training and testing datasets\n",
    "train_dataset = datasets.FashionMNIST(root='./data', train=True, download=True, transform=transform)\n",
    "test_dataset  = datasets.FashionMNIST(root='./data', train=False, transform=transform)"
   ]
  },
  {
   "cell_type": "code",
   "execution_count": 5,
   "metadata": {
    "executionInfo": {
     "elapsed": 683,
     "status": "ok",
     "timestamp": 1695305335240,
     "user": {
      "displayName": "William Li",
      "userId": "04724194045580891958"
     },
     "user_tz": 420
    },
    "id": "TcJOZp0JLK5T"
   },
   "outputs": [
    {
     "name": "stdout",
     "output_type": "stream",
     "text": [
      "Fashion MNIST dataset loaded successfully!\n"
     ]
    }
   ],
   "source": [
    "# Define the dataloaders for training and testing\n",
    "batch_size = 16\n",
    "train_loader = DataLoader(train_dataset, batch_size=batch_size, shuffle=True)\n",
    "test_loader  = DataLoader(test_dataset, batch_size=batch_size, shuffle=False)\n",
    "\n",
    "print(\"Fashion MNIST dataset loaded successfully!\")"
   ]
  },
  {
   "cell_type": "markdown",
   "metadata": {
    "id": "7jZo150raBsA"
   },
   "source": [
    "### 3. Visualizing Fashion MNIST Samples\n",
    "\n",
    "**Objective:**\n",
    "\n",
    "* Get acquainted with the type of data we're dealing with by visualizing a batch of images from the Fashion MNIST dataset.\n",
    "\n",
    "**Instructions:**\n",
    "\n",
    "* Utilize matplotlib to plot a grid of images from a batch.\n",
    "* Ensure that the images are denormalized (if they were previously normalized) to correctly display them."
   ]
  },
  {
   "cell_type": "code",
   "execution_count": 6,
   "metadata": {},
   "outputs": [
    {
     "data": {
      "image/png": "[encoded data removed]",
      "text/plain": [
       "<Figure size 800x800 with 16 Axes>"
      ]
     },
     "metadata": {},
     "output_type": "display_data"
    }
   ],
   "source": [
    "import matplotlib.pyplot as plt\n",
    "\n",
    "def imshow(img):\n",
    "    \"\"\"Helper function to un-normalize and display an image.\"\"\"\n",
    "    img = img / 2 + 0.5  # Un-normalize (if normalized with mean=0.5 and std=0.5)\n",
    "    plt.imshow(img.numpy().squeeze(), cmap='gray')\n",
    "\n",
    "# Get a single batch of images and their corresponding labels\n",
    "images, labels = next(iter(train_loader))\n",
    "\n",
    "# Define the Fashion MNIST classes\n",
    "classes = ['T-shirt/top', 'Trouser', 'Pullover', 'Dress', 'Coat',\n",
    "           'Sandal', 'Shirt', 'Sneaker', 'Bag', 'Ankle boot']\n",
    "\n",
    "# Plot the images in a grid\n",
    "fig = plt.figure(figsize=(8, 8))\n",
    "\n",
    "for i in range(16):  # Let's display 20 images\n",
    "    ax = fig.add_subplot(4, 4, i + 1, xticks=[], yticks=[])\n",
    "    imshow(images[i])\n",
    "    ax.set_title(classes[labels[i].item()])\n",
    "\n",
    "plt.tight_layout()\n",
    "plt.show()"
   ]
  },
  {
   "cell_type": "markdown",
   "metadata": {},
   "source": [
    "### 4. Observe Gradient Flow with Different Activation Functions\n",
    "\n",
    "**Objective:**\n",
    "\n",
    "* Set the deep neural network using various activation functions: ReLU, Sigmoid, Tanh, LeakyReLU, ELU, and Swish.\n",
    "* Investigate the gradient flow in different layers of the neural network for each activation function.\n",
    "\n",
    "**Background:**\n",
    "\n",
    "**Gradients** can sometimes either vanish (become very small) or explode (become very large) as it is back-propagated from the output layer towards the input layer. This can result in the network failing to train effectively. The type of activation function used can have a significant impact on this behavior.\n",
    "\n",
    "**Seaborn** is a Python data visualization library based on matplotlib. It provides a high-level interface for creating attractive graphs. Seaborn has several advantages over the basic matplotlib library:\n",
    "\n",
    "* It comes with several built-in themes and color palettes to make visually appealing plots.\n",
    "* It's easier to visualize data with complex relationships.\n",
    "* Built-in functions for regression and clustering.\n",
    "\n",
    "In this exercise, we'll leverage [Seaborn's](https://seaborn.pydata.org/examples/index.html) capabilities to visualize the gradient distributions. If you're new to Seaborn, you may want to explore their official tutorials for a deeper understanding.\n",
    "\n",
    "**Instructions:**\n",
    "\n",
    "* For each activation function, observe the gradient magnitudes in different layers of the network.\n",
    "* Utilize histograms or similar plots to visualize the distribution of gradients for each layer."
   ]
  },
  {
   "cell_type": "code",
   "execution_count": 7,
   "metadata": {},
   "outputs": [
    {
     "name": "stdout",
     "output_type": "stream",
     "text": [
      "Using device cuda:0\n"
     ]
    }
   ],
   "source": [
    "# Fetching the device that will be used throughout this notebook\n",
    "\n",
    "# Check if CUDA (GPU support) is available, otherwise use CPU.\n",
    "# This allows the code to be run on machines without a GPU.\n",
    "device = torch.device(\"cpu\") if not torch.cuda.is_available() else torch.device(\"cuda:0\")\n",
    "\n",
    "# Print out the device being used (for clarity and debugging purposes).\n",
    "print(\"Using device\", device)"
   ]
  },
  {
   "cell_type": "code",
   "execution_count": 8,
   "metadata": {},
   "outputs": [],
   "source": [
    "# Import Seaborn\n",
    "import seaborn as sns\n",
    "\n",
    "def plot_gradients_seaborn(named_parameters, act_fn_name, color=\"C0\"):\n",
    "    \"\"\"\n",
    "    Visualizes the gradients across different layers using Seaborn.\n",
    "    \n",
    "    Args:\n",
    "        named_parameters (iterator): An iterator yielding both the name of the parameter \n",
    "                                     as well as the parameter itself.\n",
    "        act_fn_name (str): The name of the activation function used in the model.\n",
    "        color (str): Color in which we want to visualize the histogram.\n",
    "        \n",
    "    Returns:\n",
    "        None. Displays histograms for gradient magnitudes of each layer.\n",
    "    \"\"\"\n",
    "    grads = {name: params.grad.data.view(-1).cpu().clone().numpy() \n",
    "             for name, params in named_parameters if \"weight\" in name}\n",
    "    \n",
    "    columns = len(grads)\n",
    "    fig, ax = plt.subplots(1, columns, figsize=(columns*3.5, 2.5))\n",
    "    fig_index = 0\n",
    "    for key in grads:\n",
    "        key_ax = ax[fig_index%columns]\n",
    "        sns.histplot(data=grads[key], bins=30, ax=key_ax, color=color, kde=True)\n",
    "        key_ax.set_title(str(key))\n",
    "        key_ax.set_xlabel(\"Grad magnitude\")\n",
    "        fig_index += 1\n",
    "    fig.suptitle(f\"Gradient magnitude distribution for activation function {act_fn_name}\", fontsize=14, y=1.05)\n",
    "    fig.subplots_adjust(wspace=0.45)\n",
    "    plt.show()\n",
    "    plt.close()"
   ]
  },
  {
   "cell_type": "code",
   "execution_count": 9,
   "metadata": {},
   "outputs": [],
   "source": [
    "def train_and_inspect_gradients(model, train_loader, criterion, optimizer, act_fn_name, color=\"C0\"):\n",
    "    \"\"\"\n",
    "    Train the model and inspect gradient flow.\n",
    "    \n",
    "    Args:\n",
    "        model (DeepNN): The DeepNN model to train.\n",
    "        train_loader (torch.utils.data.DataLoader): The data loader.\n",
    "        criterion (callable): The loss function.\n",
    "        optimizer (torch.optim.Optimizer): The optimizer.\n",
    "        act_fn_name (str): The name of the activation function used in the model.\n",
    "        color (str): Color for gradient visualization.\n",
    "        \n",
    "    Returns:\n",
    "        None. Trains the model and displays gradient histograms.\n",
    "    \"\"\"\n",
    "    \n",
    "    # Use only one epoch for demonstration\n",
    "    model.train()\n",
    "    for batch_idx, (data, target) in enumerate(train_loader):\n",
    "        data, target = data.to(device), target.to(device)\n",
    "        \n",
    "        optimizer.zero_grad()\n",
    "        output = model(data.view(-1, 784))\n",
    "        loss = criterion(output, target)\n",
    "        loss.backward()\n",
    "        \n",
    "        optimizer.step()\n",
    "        \n",
    "        # For demonstration, inspect gradient after first batch\n",
    "        if batch_idx == 0:\n",
    "            plot_gradients_seaborn(model.named_parameters(), act_fn_name, color=color)\n",
    "            break"
   ]
  },
  {
   "cell_type": "code",
   "execution_count": null,
   "metadata": {},
   "outputs": [],
   "source": [
    "# We'll test the gradient flow for multiple activation functions to compare their behavior.\n",
    "# The activation functions we'll be experimenting with are:\n",
    "# ReLU, LeakyReLU, ELU, and Sigmoid.\n",
    "\n",
    "# List of activation functions to be used in our neural network\n",
    "act_fn_list = [nn.ReLU(), nn.LeakyReLU(), nn.ELU(), nn.Sigmoid()]\n",
    "\n",
    "# Corresponding names of the activation functions for display purposes\n",
    "act_fn_names = [\"ReLU\", \"LeakyReLU\", \"ELU\", \"Sigmoid\"]\n",
    "\n",
    "# Iterating over each activation function to:\n",
    "# 1. Initialize our deep neural network with the given activation function.\n",
    "# 2. Define the optimizer for training.\n",
    "# 3. Train the network.\n",
    "\n",
    "for i, act_fn in enumerate(act_fn_list):\n",
    "    # Initialize the neural network with the current activation function and move it to the specified device\n",
    "    \n",
    "    # Your code here \n",
    "    \n",
    "    # Define the optimizer for training. Here, we're using the Adam optimizer.\n",
    "    \n",
    "    # Your code here \n",
    "    \n",
    "    # Train the network and visualize the gradient magnitudes using our custom function.\n",
    "    # We also specify a unique color for each activation function's visualization for clarity.\n",
    "    train_and_inspect_gradients(net, train_loader, torch.nn.functional.cross_entropy, optimizer, act_fn_names[i], color=f\"C{i}\")"
   ]
  },
  {
   "cell_type": "markdown",
   "metadata": {},
   "source": [
    "**Observations:**\n",
    "\n",
    "From our visual inspections of the gradient magnitudes for various activation functions, we can draw a few observations:\n",
    "\n",
    "**ReLU:** This activation function is known for its ease of computation and efficient gradient propagation. However, the plots suggest potential issues like the dying ReLU problem, where neurons can sometimes get stuck during training and always output zero. This can result in sparse gradients.\n",
    "\n",
    "**LeakyReLU:** An improvement over ReLU, LeakyReLU aims to fix the dying ReLU problem by allowing a small, non-zero gradient when the unit is not active. The distribution of gradient magnitudes indicates a more balanced gradient flow compared to ReLU, especially for negative input values.\n",
    "\n",
    "**ELU:** From the plots, ELU seems to produce a smoother gradient distribution which could lead to better convergence properties during training.\n",
    "\n",
    "**Sigmoid:** Historically a popular choice, Sigmoid has fallen out of favor due to the vanishing gradient problem, which can slow down learning or cause it to stop entirely. The histograms indicate that while the gradients for the output layer are very large with up to 0.1, the input layer has the lowest gradient norm across all activation functions (1e-6).\n",
    "\n",
    "By visually comparing gradient distributions, we gain a more intuitive understanding of how different activation functions impact the learning process of deep neural networks. This serves as a basis for selecting suitable activation functions for specific tasks or network architectures."
   ]
  },
  {
   "cell_type": "markdown",
   "metadata": {},
   "source": [
    "### 5. Train with Different Activation Functions\n",
    "\n",
    "Let's repeat the experiment, but now training for a few epochs."
   ]
  },
  {
   "cell_type": "code",
   "execution_count": null,
   "metadata": {},
   "outputs": [],
   "source": [
    "def train_several_epochs(model, train_loader, criterion, optimizer, act_fn_name, color=\"C0\", epochs=1):\n",
    "    \"\"\"\n",
    "    Train the model and inspect gradient flow.\n",
    "    \n",
    "    Args:\n",
    "        model (DeepNN): The DeepNN model to train.\n",
    "        train_loader (torch.utils.data.DataLoader): The data loader.\n",
    "        criterion (callable): The loss function.\n",
    "        optimizer (torch.optim.Optimizer): The optimizer.\n",
    "        act_fn_name (str): The name of the activation function used in the model.\n",
    "        color (str): Color for gradient visualization.\n",
    "        epochs (int): Number of training epochs.\n",
    "        \n",
    "    Returns:\n",
    "        None. Trains the model and displays gradient histograms.\n",
    "    \"\"\"\n",
    "    \n",
    "    model.train()\n",
    "    for epoch in range(epochs):\n",
    "        epoch_loss = 0\n",
    "        correct_preds = 0\n",
    "        \n",
    "        for batch_idx, (data, target) in enumerate(train_loader):\n",
    "            data, target = data.to(device), target.to(device)\n",
    "            \n",
    "            optimizer.zero_grad()\n",
    "            output = model(data.view(-1, 784))\n",
    "            loss = criterion(output, target)\n",
    "            loss.backward()\n",
    "            \n",
    "            optimizer.step()\n",
    "            \n",
    "            # Update epoch loss\n",
    "            epoch_loss += loss.item()\n",
    "            \n",
    "            # Update correct predictions\n",
    "            _, predicted = output.max(1)\n",
    "            correct_preds += (predicted == target).sum().item()\n",
    "        \n",
    "        # Calculate average loss and accuracy over the epoch\n",
    "        avg_loss = epoch_loss / len(train_loader)\n",
    "        accuracy = 100. * correct_preds / len(train_loader.dataset)\n",
    "        \n",
    "        print(f\"Epoch {epoch+1}/{epochs}, Loss: {avg_loss:.4f}, Accuracy: {accuracy:.2f}%\")\n",
    "\n",
    "\n",
    "# List of activation functions to be used in our neural network\n",
    "act_fn_list = [nn.ReLU(), nn.LeakyReLU(), nn.ELU(), nn.Sigmoid()]\n",
    "\n",
    "# Corresponding names of the activation functions for display purposes\n",
    "act_fn_names = [\"ReLU\", \"LeakyReLU\", \"ELU\", \"Sigmoid\"]\n",
    "\n",
    "# Train and visualize for each activation function.\n",
    "for i, act_fn in enumerate(act_fn_list):\n",
    "    print(\"Training with \" + str(act_fn))\n",
    "    net = DeepNN(activation_func=act_fn).to(device)\n",
    "    optimizer = optim.Adam(net.parameters(), lr=0.001)\n",
    "    train_several_epochs(net, train_loader, torch.nn.functional.cross_entropy, optimizer, act_fn_names[i], color=f\"C{i}\", epochs=1)\n",
    "    print(\"--\")"
   ]
  },
  {
   "cell_type": "markdown",
   "metadata": {},
   "source": [
    "### 6. Diving Deeper: Exploring Further with Activation Functions\n",
    "\n",
    "The topic of activation functions in neural networks is intricate and offers various avenues for further exploration. Here are some aspects to consider:\n",
    "\n",
    "* **Dead Neurons in ReLU Networks:** One limitation of the ReLU activation function is the occurrence of \"dead neurons\". Specifically, some neurons might never activate. It could be insightful to inspect networks that employ ReLU and identify such neurons. For a neuron to be considered \"dead\" in a ReLU network, the output value of that neuron in the linear layer preceding the ReLU must be negative for all input images.\n",
    "\n",
    "* **Performance Analysis:** Different activation functions might have different computational costs. Analyze the efficiency of various functions. For instance, determine if the forward/backpropagation process is slower for certain activation functions compared to others.\n",
    "\n",
    "While the exercises provided in this notebook offer a practical perspective on gradient flow with various activation functions, there are many more aspects and nuances to explore in the realm of neural networks. Continue exploring and experimenting to deepen your understanding."
   ]
  }
 ],
 "metadata": {
  "colab": {
   "provenance": []
  },
  "kernelspec": {
   "display_name": "Python 3 (ipykernel)",
   "language": "python",
   "name": "python3"
  },
  "language_info": {
   "codemirror_mode": {
    "name": "ipython",
    "version": 3
   },
   "file_extension": ".py",
   "mimetype": "text/x-python",
   "name": "python",
   "nbconvert_exporter": "python",
   "pygments_lexer": "ipython3",
   "version": "3.11.5"
  }
 },
 "nbformat": 4,
 "nbformat_minor": 4
}
